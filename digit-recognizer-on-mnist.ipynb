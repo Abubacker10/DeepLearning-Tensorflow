{
 "cells": [
  {
   "cell_type": "code",
   "execution_count": 1,
   "id": "49d3032f",
   "metadata": {
    "_cell_guid": "b1076dfc-b9ad-4769-8c92-a6c4dae69d19",
    "_uuid": "8f2839f25d086af736a60e9eeb907d3b93b6e0e5",
    "execution": {
     "iopub.execute_input": "2024-03-03T11:29:36.432221Z",
     "iopub.status.busy": "2024-03-03T11:29:36.431536Z",
     "iopub.status.idle": "2024-03-03T11:29:37.320812Z",
     "shell.execute_reply": "2024-03-03T11:29:37.319709Z"
    },
    "papermill": {
     "duration": 0.901749,
     "end_time": "2024-03-03T11:29:37.323040",
     "exception": false,
     "start_time": "2024-03-03T11:29:36.421291",
     "status": "completed"
    },
    "tags": []
   },
   "outputs": [
    {
     "name": "stdout",
     "output_type": "stream",
     "text": [
      "/kaggle/input/digit-recognizer/sample_submission.csv\n",
      "/kaggle/input/digit-recognizer/train.csv\n",
      "/kaggle/input/digit-recognizer/test.csv\n"
     ]
    }
   ],
   "source": [
    "# This Python 3 environment comes with many helpful analytics libraries installed\n",
    "# It is defined by the kaggle/python Docker image: https://github.com/kaggle/docker-python\n",
    "# For example, here's several helpful packages to load\n",
    "\n",
    "import numpy as np # linear algebra\n",
    "import pandas as pd # data processing, CSV file I/O (e.g. pd.read_csv)\n",
    "\n",
    "# Input data files are available in the read-only \"../input/\" directory\n",
    "# For example, running this (by clicking run or pressing Shift+Enter) will list all files under the input directory\n",
    "\n",
    "import os\n",
    "for dirname, _, filenames in os.walk('/kaggle/input'):\n",
    "    for filename in filenames:\n",
    "        print(os.path.join(dirname, filename))\n",
    "\n",
    "# You can write up to 20GB to the current directory (/kaggle/working/) that gets preserved as output when you create a version using \"Save & Run All\" \n",
    "# You can also write temporary files to /kaggle/temp/, but they won't be saved outside of the current session"
   ]
  },
  {
   "cell_type": "code",
   "execution_count": 2,
   "id": "fa5792f3",
   "metadata": {
    "execution": {
     "iopub.execute_input": "2024-03-03T11:29:37.341021Z",
     "iopub.status.busy": "2024-03-03T11:29:37.340573Z",
     "iopub.status.idle": "2024-03-03T11:29:51.870858Z",
     "shell.execute_reply": "2024-03-03T11:29:51.869821Z"
    },
    "papermill": {
     "duration": 14.542116,
     "end_time": "2024-03-03T11:29:51.873377",
     "exception": false,
     "start_time": "2024-03-03T11:29:37.331261",
     "status": "completed"
    },
    "tags": []
   },
   "outputs": [
    {
     "name": "stderr",
     "output_type": "stream",
     "text": [
      "2024-03-03 11:29:39.417289: E external/local_xla/xla/stream_executor/cuda/cuda_dnn.cc:9261] Unable to register cuDNN factory: Attempting to register factory for plugin cuDNN when one has already been registered\n",
      "2024-03-03 11:29:39.417420: E external/local_xla/xla/stream_executor/cuda/cuda_fft.cc:607] Unable to register cuFFT factory: Attempting to register factory for plugin cuFFT when one has already been registered\n",
      "2024-03-03 11:29:39.575830: E external/local_xla/xla/stream_executor/cuda/cuda_blas.cc:1515] Unable to register cuBLAS factory: Attempting to register factory for plugin cuBLAS when one has already been registered\n"
     ]
    }
   ],
   "source": [
    "from tensorflow.keras.models import Sequential\n",
    "from tensorflow.keras.layers import Dense,Conv2D,MaxPool2D,Flatten\n",
    "from tensorflow.keras.callbacks import EarlyStopping\n",
    "from tensorflow.keras.datasets import mnist\n",
    "from tensorflow.keras.utils import to_categorical\n",
    "from sklearn.metrics import confusion_matrix,accuracy_score\n",
    "import matplotlib.pyplot as plt\n",
    "import seaborn as sns"
   ]
  },
  {
   "cell_type": "markdown",
   "id": "3aa4395a",
   "metadata": {
    "papermill": {
     "duration": 0.007482,
     "end_time": "2024-03-03T11:29:51.888799",
     "exception": false,
     "start_time": "2024-03-03T11:29:51.881317",
     "status": "completed"
    },
    "tags": []
   },
   "source": [
    "## Loading MNIST data"
   ]
  },
  {
   "cell_type": "code",
   "execution_count": 3,
   "id": "63d52212",
   "metadata": {
    "execution": {
     "iopub.execute_input": "2024-03-03T11:29:51.906905Z",
     "iopub.status.busy": "2024-03-03T11:29:51.906225Z",
     "iopub.status.idle": "2024-03-03T11:29:52.393877Z",
     "shell.execute_reply": "2024-03-03T11:29:52.392587Z"
    },
    "papermill": {
     "duration": 0.500108,
     "end_time": "2024-03-03T11:29:52.396749",
     "exception": false,
     "start_time": "2024-03-03T11:29:51.896641",
     "status": "completed"
    },
    "tags": []
   },
   "outputs": [
    {
     "name": "stdout",
     "output_type": "stream",
     "text": [
      "Downloading data from https://storage.googleapis.com/tensorflow/tf-keras-datasets/mnist.npz\n",
      "\u001b[1m11490434/11490434\u001b[0m \u001b[32m━━━━━━━━━━━━━━━━━━━━\u001b[0m\u001b[37m\u001b[0m \u001b[1m0s\u001b[0m 0us/step\n"
     ]
    }
   ],
   "source": [
    "(X_train,y_train),(X_test,y_test) = mnist.load_data()"
   ]
  },
  {
   "cell_type": "code",
   "execution_count": 4,
   "id": "757261ae",
   "metadata": {
    "execution": {
     "iopub.execute_input": "2024-03-03T11:29:52.415092Z",
     "iopub.status.busy": "2024-03-03T11:29:52.414698Z",
     "iopub.status.idle": "2024-03-03T11:29:52.426428Z",
     "shell.execute_reply": "2024-03-03T11:29:52.424757Z"
    },
    "papermill": {
     "duration": 0.023837,
     "end_time": "2024-03-03T11:29:52.428940",
     "exception": false,
     "start_time": "2024-03-03T11:29:52.405103",
     "status": "completed"
    },
    "tags": []
   },
   "outputs": [
    {
     "data": {
      "text/plain": [
       "(60000, 28, 28)"
      ]
     },
     "execution_count": 4,
     "metadata": {},
     "output_type": "execute_result"
    }
   ],
   "source": [
    "X_train.shape"
   ]
  },
  {
   "cell_type": "code",
   "execution_count": 5,
   "id": "ed91f248",
   "metadata": {
    "execution": {
     "iopub.execute_input": "2024-03-03T11:29:52.450879Z",
     "iopub.status.busy": "2024-03-03T11:29:52.450172Z",
     "iopub.status.idle": "2024-03-03T11:29:52.458543Z",
     "shell.execute_reply": "2024-03-03T11:29:52.457377Z"
    },
    "papermill": {
     "duration": 0.023434,
     "end_time": "2024-03-03T11:29:52.461493",
     "exception": false,
     "start_time": "2024-03-03T11:29:52.438059",
     "status": "completed"
    },
    "tags": []
   },
   "outputs": [
    {
     "data": {
      "text/plain": [
       "(10000, 28, 28)"
      ]
     },
     "execution_count": 5,
     "metadata": {},
     "output_type": "execute_result"
    }
   ],
   "source": [
    "X_test.shape"
   ]
  },
  {
   "cell_type": "code",
   "execution_count": 6,
   "id": "8d26f54a",
   "metadata": {
    "execution": {
     "iopub.execute_input": "2024-03-03T11:29:52.488725Z",
     "iopub.status.busy": "2024-03-03T11:29:52.487746Z",
     "iopub.status.idle": "2024-03-03T11:29:52.495181Z",
     "shell.execute_reply": "2024-03-03T11:29:52.493906Z"
    },
    "papermill": {
     "duration": 0.025232,
     "end_time": "2024-03-03T11:29:52.499480",
     "exception": false,
     "start_time": "2024-03-03T11:29:52.474248",
     "status": "completed"
    },
    "tags": []
   },
   "outputs": [
    {
     "data": {
      "text/plain": [
       "(60000,)"
      ]
     },
     "execution_count": 6,
     "metadata": {},
     "output_type": "execute_result"
    }
   ],
   "source": [
    "y_train.shape"
   ]
  },
  {
   "cell_type": "markdown",
   "id": "d726b585",
   "metadata": {
    "papermill": {
     "duration": 0.008221,
     "end_time": "2024-03-03T11:29:52.519042",
     "exception": false,
     "start_time": "2024-03-03T11:29:52.510821",
     "status": "completed"
    },
    "tags": []
   },
   "source": [
    "### Visualizing single array image"
   ]
  },
  {
   "cell_type": "code",
   "execution_count": 7,
   "id": "abd5600a",
   "metadata": {
    "execution": {
     "iopub.execute_input": "2024-03-03T11:29:52.539412Z",
     "iopub.status.busy": "2024-03-03T11:29:52.538712Z",
     "iopub.status.idle": "2024-03-03T11:29:52.543815Z",
     "shell.execute_reply": "2024-03-03T11:29:52.542484Z"
    },
    "papermill": {
     "duration": 0.017576,
     "end_time": "2024-03-03T11:29:52.546286",
     "exception": false,
     "start_time": "2024-03-03T11:29:52.528710",
     "status": "completed"
    },
    "tags": []
   },
   "outputs": [],
   "source": [
    "single_image = X_train[0]"
   ]
  },
  {
   "cell_type": "code",
   "execution_count": 8,
   "id": "5a4caa64",
   "metadata": {
    "execution": {
     "iopub.execute_input": "2024-03-03T11:29:52.565470Z",
     "iopub.status.busy": "2024-03-03T11:29:52.565059Z",
     "iopub.status.idle": "2024-03-03T11:29:52.574806Z",
     "shell.execute_reply": "2024-03-03T11:29:52.573498Z"
    },
    "papermill": {
     "duration": 0.021976,
     "end_time": "2024-03-03T11:29:52.577005",
     "exception": false,
     "start_time": "2024-03-03T11:29:52.555029",
     "status": "completed"
    },
    "tags": []
   },
   "outputs": [
    {
     "data": {
      "text/plain": [
       "array([[  0,   0,   0,   0,   0,   0,   0,   0,   0,   0,   0,   0,   0,\n",
       "          0,   0,   0,   0,   0,   0,   0,   0,   0,   0,   0,   0,   0,\n",
       "          0,   0],\n",
       "       [  0,   0,   0,   0,   0,   0,   0,   0,   0,   0,   0,   0,   0,\n",
       "          0,   0,   0,   0,   0,   0,   0,   0,   0,   0,   0,   0,   0,\n",
       "          0,   0],\n",
       "       [  0,   0,   0,   0,   0,   0,   0,   0,   0,   0,   0,   0,   0,\n",
       "          0,   0,   0,   0,   0,   0,   0,   0,   0,   0,   0,   0,   0,\n",
       "          0,   0],\n",
       "       [  0,   0,   0,   0,   0,   0,   0,   0,   0,   0,   0,   0,   0,\n",
       "          0,   0,   0,   0,   0,   0,   0,   0,   0,   0,   0,   0,   0,\n",
       "          0,   0],\n",
       "       [  0,   0,   0,   0,   0,   0,   0,   0,   0,   0,   0,   0,   0,\n",
       "          0,   0,   0,   0,   0,   0,   0,   0,   0,   0,   0,   0,   0,\n",
       "          0,   0],\n",
       "       [  0,   0,   0,   0,   0,   0,   0,   0,   0,   0,   0,   0,   3,\n",
       "         18,  18,  18, 126, 136, 175,  26, 166, 255, 247, 127,   0,   0,\n",
       "          0,   0],\n",
       "       [  0,   0,   0,   0,   0,   0,   0,   0,  30,  36,  94, 154, 170,\n",
       "        253, 253, 253, 253, 253, 225, 172, 253, 242, 195,  64,   0,   0,\n",
       "          0,   0],\n",
       "       [  0,   0,   0,   0,   0,   0,   0,  49, 238, 253, 253, 253, 253,\n",
       "        253, 253, 253, 253, 251,  93,  82,  82,  56,  39,   0,   0,   0,\n",
       "          0,   0],\n",
       "       [  0,   0,   0,   0,   0,   0,   0,  18, 219, 253, 253, 253, 253,\n",
       "        253, 198, 182, 247, 241,   0,   0,   0,   0,   0,   0,   0,   0,\n",
       "          0,   0],\n",
       "       [  0,   0,   0,   0,   0,   0,   0,   0,  80, 156, 107, 253, 253,\n",
       "        205,  11,   0,  43, 154,   0,   0,   0,   0,   0,   0,   0,   0,\n",
       "          0,   0],\n",
       "       [  0,   0,   0,   0,   0,   0,   0,   0,   0,  14,   1, 154, 253,\n",
       "         90,   0,   0,   0,   0,   0,   0,   0,   0,   0,   0,   0,   0,\n",
       "          0,   0],\n",
       "       [  0,   0,   0,   0,   0,   0,   0,   0,   0,   0,   0, 139, 253,\n",
       "        190,   2,   0,   0,   0,   0,   0,   0,   0,   0,   0,   0,   0,\n",
       "          0,   0],\n",
       "       [  0,   0,   0,   0,   0,   0,   0,   0,   0,   0,   0,  11, 190,\n",
       "        253,  70,   0,   0,   0,   0,   0,   0,   0,   0,   0,   0,   0,\n",
       "          0,   0],\n",
       "       [  0,   0,   0,   0,   0,   0,   0,   0,   0,   0,   0,   0,  35,\n",
       "        241, 225, 160, 108,   1,   0,   0,   0,   0,   0,   0,   0,   0,\n",
       "          0,   0],\n",
       "       [  0,   0,   0,   0,   0,   0,   0,   0,   0,   0,   0,   0,   0,\n",
       "         81, 240, 253, 253, 119,  25,   0,   0,   0,   0,   0,   0,   0,\n",
       "          0,   0],\n",
       "       [  0,   0,   0,   0,   0,   0,   0,   0,   0,   0,   0,   0,   0,\n",
       "          0,  45, 186, 253, 253, 150,  27,   0,   0,   0,   0,   0,   0,\n",
       "          0,   0],\n",
       "       [  0,   0,   0,   0,   0,   0,   0,   0,   0,   0,   0,   0,   0,\n",
       "          0,   0,  16,  93, 252, 253, 187,   0,   0,   0,   0,   0,   0,\n",
       "          0,   0],\n",
       "       [  0,   0,   0,   0,   0,   0,   0,   0,   0,   0,   0,   0,   0,\n",
       "          0,   0,   0,   0, 249, 253, 249,  64,   0,   0,   0,   0,   0,\n",
       "          0,   0],\n",
       "       [  0,   0,   0,   0,   0,   0,   0,   0,   0,   0,   0,   0,   0,\n",
       "          0,  46, 130, 183, 253, 253, 207,   2,   0,   0,   0,   0,   0,\n",
       "          0,   0],\n",
       "       [  0,   0,   0,   0,   0,   0,   0,   0,   0,   0,   0,   0,  39,\n",
       "        148, 229, 253, 253, 253, 250, 182,   0,   0,   0,   0,   0,   0,\n",
       "          0,   0],\n",
       "       [  0,   0,   0,   0,   0,   0,   0,   0,   0,   0,  24, 114, 221,\n",
       "        253, 253, 253, 253, 201,  78,   0,   0,   0,   0,   0,   0,   0,\n",
       "          0,   0],\n",
       "       [  0,   0,   0,   0,   0,   0,   0,   0,  23,  66, 213, 253, 253,\n",
       "        253, 253, 198,  81,   2,   0,   0,   0,   0,   0,   0,   0,   0,\n",
       "          0,   0],\n",
       "       [  0,   0,   0,   0,   0,   0,  18, 171, 219, 253, 253, 253, 253,\n",
       "        195,  80,   9,   0,   0,   0,   0,   0,   0,   0,   0,   0,   0,\n",
       "          0,   0],\n",
       "       [  0,   0,   0,   0,  55, 172, 226, 253, 253, 253, 253, 244, 133,\n",
       "         11,   0,   0,   0,   0,   0,   0,   0,   0,   0,   0,   0,   0,\n",
       "          0,   0],\n",
       "       [  0,   0,   0,   0, 136, 253, 253, 253, 212, 135, 132,  16,   0,\n",
       "          0,   0,   0,   0,   0,   0,   0,   0,   0,   0,   0,   0,   0,\n",
       "          0,   0],\n",
       "       [  0,   0,   0,   0,   0,   0,   0,   0,   0,   0,   0,   0,   0,\n",
       "          0,   0,   0,   0,   0,   0,   0,   0,   0,   0,   0,   0,   0,\n",
       "          0,   0],\n",
       "       [  0,   0,   0,   0,   0,   0,   0,   0,   0,   0,   0,   0,   0,\n",
       "          0,   0,   0,   0,   0,   0,   0,   0,   0,   0,   0,   0,   0,\n",
       "          0,   0],\n",
       "       [  0,   0,   0,   0,   0,   0,   0,   0,   0,   0,   0,   0,   0,\n",
       "          0,   0,   0,   0,   0,   0,   0,   0,   0,   0,   0,   0,   0,\n",
       "          0,   0]], dtype=uint8)"
      ]
     },
     "execution_count": 8,
     "metadata": {},
     "output_type": "execute_result"
    }
   ],
   "source": [
    "single_image"
   ]
  },
  {
   "cell_type": "code",
   "execution_count": 9,
   "id": "2bfe4be7",
   "metadata": {
    "execution": {
     "iopub.execute_input": "2024-03-03T11:29:52.597618Z",
     "iopub.status.busy": "2024-03-03T11:29:52.596826Z",
     "iopub.status.idle": "2024-03-03T11:29:52.888809Z",
     "shell.execute_reply": "2024-03-03T11:29:52.887526Z"
    },
    "papermill": {
     "duration": 0.305739,
     "end_time": "2024-03-03T11:29:52.891914",
     "exception": false,
     "start_time": "2024-03-03T11:29:52.586175",
     "status": "completed"
    },
    "tags": []
   },
   "outputs": [
    {
     "data": {
      "text/plain": [
       "<matplotlib.image.AxesImage at 0x7a24d91cf430>"
      ]
     },
     "execution_count": 9,
     "metadata": {},
     "output_type": "execute_result"
    },
    {
     "data": {
      "image/png": "[encoded data removed]",
      "text/plain": [
       "<Figure size 640x480 with 1 Axes>"
      ]
     },
     "metadata": {},
     "output_type": "display_data"
    }
   ],
   "source": [
    "#Since it is a 2D array(28,28) matplotlib will easily do\n",
    "plt.imshow(single_image) ## Gray Scale image (Color is because default cmap of matplotlib)"
   ]
  },
  {
   "cell_type": "markdown",
   "id": "a1d936d4",
   "metadata": {
    "papermill": {
     "duration": 0.011897,
     "end_time": "2024-03-03T11:29:52.915485",
     "exception": false,
     "start_time": "2024-03-03T11:29:52.903588",
     "status": "completed"
    },
    "tags": []
   },
   "source": [
    "## Preprocessing the Data"
   ]
  },
  {
   "cell_type": "code",
   "execution_count": 10,
   "id": "4d2da697",
   "metadata": {
    "execution": {
     "iopub.execute_input": "2024-03-03T11:29:52.944913Z",
     "iopub.status.busy": "2024-03-03T11:29:52.944094Z",
     "iopub.status.idle": "2024-03-03T11:29:52.951984Z",
     "shell.execute_reply": "2024-03-03T11:29:52.951087Z"
    },
    "papermill": {
     "duration": 0.024779,
     "end_time": "2024-03-03T11:29:52.954380",
     "exception": false,
     "start_time": "2024-03-03T11:29:52.929601",
     "status": "completed"
    },
    "tags": []
   },
   "outputs": [],
   "source": [
    "# reshaping the img array in the way to mention the (batch_size,width,height,color_channels)\n",
    "X_train = X_train.reshape(60000,28,28,1)\n",
    "X_test = X_test.reshape(10000,28,28,1)"
   ]
  },
  {
   "cell_type": "code",
   "execution_count": 11,
   "id": "2151749f",
   "metadata": {
    "execution": {
     "iopub.execute_input": "2024-03-03T11:29:52.975002Z",
     "iopub.status.busy": "2024-03-03T11:29:52.974638Z",
     "iopub.status.idle": "2024-03-03T11:29:52.986025Z",
     "shell.execute_reply": "2024-03-03T11:29:52.984786Z"
    },
    "papermill": {
     "duration": 0.024808,
     "end_time": "2024-03-03T11:29:52.988390",
     "exception": false,
     "start_time": "2024-03-03T11:29:52.963582",
     "status": "completed"
    },
    "tags": []
   },
   "outputs": [],
   "source": [
    "#one hot encoding by keras.utils \n",
    "y_train_c = to_categorical(y_train)\n",
    "y_test_c = to_categorical(y_test)"
   ]
  },
  {
   "cell_type": "code",
   "execution_count": 12,
   "id": "da6e73a2",
   "metadata": {
    "execution": {
     "iopub.execute_input": "2024-03-03T11:29:53.008914Z",
     "iopub.status.busy": "2024-03-03T11:29:53.007828Z",
     "iopub.status.idle": "2024-03-03T11:29:53.015098Z",
     "shell.execute_reply": "2024-03-03T11:29:53.014180Z"
    },
    "papermill": {
     "duration": 0.019637,
     "end_time": "2024-03-03T11:29:53.017224",
     "exception": false,
     "start_time": "2024-03-03T11:29:52.997587",
     "status": "completed"
    },
    "tags": []
   },
   "outputs": [
    {
     "data": {
      "text/plain": [
       "(60000, 10)"
      ]
     },
     "execution_count": 12,
     "metadata": {},
     "output_type": "execute_result"
    }
   ],
   "source": [
    "y_train_c.shape"
   ]
  },
  {
   "cell_type": "code",
   "execution_count": 13,
   "id": "4b76cbbc",
   "metadata": {
    "execution": {
     "iopub.execute_input": "2024-03-03T11:29:53.037526Z",
     "iopub.status.busy": "2024-03-03T11:29:53.037111Z",
     "iopub.status.idle": "2024-03-03T11:29:53.043979Z",
     "shell.execute_reply": "2024-03-03T11:29:53.042867Z"
    },
    "papermill": {
     "duration": 0.019953,
     "end_time": "2024-03-03T11:29:53.046242",
     "exception": false,
     "start_time": "2024-03-03T11:29:53.026289",
     "status": "completed"
    },
    "tags": []
   },
   "outputs": [
    {
     "data": {
      "text/plain": [
       "array([0., 0., 0., 0., 1., 0., 0., 0., 0., 0.])"
      ]
     },
     "execution_count": 13,
     "metadata": {},
     "output_type": "execute_result"
    }
   ],
   "source": [
    "y_train_c[9] ## the index is 4 means the it is digit 4"
   ]
  },
  {
   "cell_type": "code",
   "execution_count": 14,
   "id": "c49a0246",
   "metadata": {
    "execution": {
     "iopub.execute_input": "2024-03-03T11:29:53.067177Z",
     "iopub.status.busy": "2024-03-03T11:29:53.066105Z",
     "iopub.status.idle": "2024-03-03T11:29:53.082987Z",
     "shell.execute_reply": "2024-03-03T11:29:53.081805Z"
    },
    "papermill": {
     "duration": 0.02974,
     "end_time": "2024-03-03T11:29:53.085245",
     "exception": false,
     "start_time": "2024-03-03T11:29:53.055505",
     "status": "completed"
    },
    "tags": []
   },
   "outputs": [
    {
     "data": {
      "text/plain": [
       "(255, 0)"
      ]
     },
     "execution_count": 14,
     "metadata": {},
     "output_type": "execute_result"
    }
   ],
   "source": [
    "#normalizing the X data\n",
    "X_train.max() , X_train.min()"
   ]
  },
  {
   "cell_type": "code",
   "execution_count": 15,
   "id": "63ee0519",
   "metadata": {
    "execution": {
     "iopub.execute_input": "2024-03-03T11:29:53.107467Z",
     "iopub.status.busy": "2024-03-03T11:29:53.106802Z",
     "iopub.status.idle": "2024-03-03T11:29:53.306104Z",
     "shell.execute_reply": "2024-03-03T11:29:53.304037Z"
    },
    "papermill": {
     "duration": 0.214148,
     "end_time": "2024-03-03T11:29:53.309902",
     "exception": false,
     "start_time": "2024-03-03T11:29:53.095754",
     "status": "completed"
    },
    "tags": []
   },
   "outputs": [],
   "source": [
    "#since the pixels are from 1 to 255 \n",
    "#we can easily standardize into(0,1) by dividing them all by 255\n",
    "\n",
    "X_train = X_train/255\n",
    "X_test = X_test/255"
   ]
  },
  {
   "cell_type": "code",
   "execution_count": 16,
   "id": "817cb73a",
   "metadata": {
    "execution": {
     "iopub.execute_input": "2024-03-03T11:29:53.332879Z",
     "iopub.status.busy": "2024-03-03T11:29:53.332193Z",
     "iopub.status.idle": "2024-03-03T11:29:53.341734Z",
     "shell.execute_reply": "2024-03-03T11:29:53.340088Z"
    },
    "papermill": {
     "duration": 0.024489,
     "end_time": "2024-03-03T11:29:53.344889",
     "exception": false,
     "start_time": "2024-03-03T11:29:53.320400",
     "status": "completed"
    },
    "tags": []
   },
   "outputs": [
    {
     "data": {
      "text/plain": [
       "((28, 28, 1), 1.0)"
      ]
     },
     "execution_count": 16,
     "metadata": {},
     "output_type": "execute_result"
    }
   ],
   "source": [
    "X_train[4].shape ,X_train[4].max() #done "
   ]
  },
  {
   "cell_type": "markdown",
   "id": "a5696cea",
   "metadata": {
    "papermill": {
     "duration": 0.014613,
     "end_time": "2024-03-03T11:29:53.374203",
     "exception": false,
     "start_time": "2024-03-03T11:29:53.359590",
     "status": "completed"
    },
    "tags": []
   },
   "source": [
    "## Building CNN Model"
   ]
  },
  {
   "cell_type": "code",
   "execution_count": 17,
   "id": "e59d92d6",
   "metadata": {
    "execution": {
     "iopub.execute_input": "2024-03-03T11:29:53.406310Z",
     "iopub.status.busy": "2024-03-03T11:29:53.405604Z",
     "iopub.status.idle": "2024-03-03T11:29:53.530734Z",
     "shell.execute_reply": "2024-03-03T11:29:53.529800Z"
    },
    "papermill": {
     "duration": 0.14412,
     "end_time": "2024-03-03T11:29:53.533608",
     "exception": false,
     "start_time": "2024-03-03T11:29:53.389488",
     "status": "completed"
    },
    "tags": []
   },
   "outputs": [
    {
     "name": "stderr",
     "output_type": "stream",
     "text": [
      "/opt/conda/lib/python3.10/site-packages/keras/src/layers/convolutional/base_conv.py:99: UserWarning: Do not pass an `input_shape`/`input_dim` argument to a layer. When using Sequential models, prefer using an `Input(shape)` object as the first layer in the model instead.\n",
      "  super().__init__(\n",
      "/opt/conda/lib/python3.10/site-packages/keras/src/layers/core/dense.py:85: UserWarning: Do not pass an `input_shape`/`input_dim` argument to a layer. When using Sequential models, prefer using an `Input(shape)` object as the first layer in the model instead.\n",
      "  super().__init__(activity_regularizer=activity_regularizer, **kwargs)\n"
     ]
    }
   ],
   "source": [
    "model = Sequential()\n",
    "#adding the layers in the order -> (CNN,POOL,FC,OUT)\n",
    "\n",
    "model.add(Conv2D(filters=64,kernel_size=(4,4),input_shape=(28,28,1),activation='relu')) #inputshape of one img array\n",
    "model.add(MaxPool2D(pool_size=(3,3)))\n",
    "#before going to the FC the output feature should be flatten out\n",
    "model.add(Flatten())\n",
    "model.add(Dense(128,activation='relu',input_shape=(28,28,1)))\n",
    "#Output layer-> 10 neurons since it has 10 classes\n",
    "model.add(Dense(10,activation='softmax',input_shape=(28,28,1)))"
   ]
  },
  {
   "cell_type": "code",
   "execution_count": 18,
   "id": "d1df3558",
   "metadata": {
    "execution": {
     "iopub.execute_input": "2024-03-03T11:29:53.563646Z",
     "iopub.status.busy": "2024-03-03T11:29:53.561885Z",
     "iopub.status.idle": "2024-03-03T11:29:53.587774Z",
     "shell.execute_reply": "2024-03-03T11:29:53.577840Z"
    },
    "papermill": {
     "duration": 0.04143,
     "end_time": "2024-03-03T11:29:53.590612",
     "exception": false,
     "start_time": "2024-03-03T11:29:53.549182",
     "status": "completed"
    },
    "tags": []
   },
   "outputs": [],
   "source": [
    "model.compile(optimizer='adam',loss='categorical_crossentropy',metrics=['accuracy'])"
   ]
  },
  {
   "cell_type": "code",
   "execution_count": 19,
   "id": "4184f499",
   "metadata": {
    "execution": {
     "iopub.execute_input": "2024-03-03T11:29:53.613269Z",
     "iopub.status.busy": "2024-03-03T11:29:53.612130Z",
     "iopub.status.idle": "2024-03-03T11:29:53.617477Z",
     "shell.execute_reply": "2024-03-03T11:29:53.616623Z"
    },
    "papermill": {
     "duration": 0.019251,
     "end_time": "2024-03-03T11:29:53.619853",
     "exception": false,
     "start_time": "2024-03-03T11:29:53.600602",
     "status": "completed"
    },
    "tags": []
   },
   "outputs": [],
   "source": [
    "#Earlystoppings to prevent the model from overfittings\n",
    "callback = EarlyStopping(min_delta=0.001,patience=2,restore_best_weights=True)"
   ]
  },
  {
   "cell_type": "code",
   "execution_count": 20,
   "id": "794c8bf2",
   "metadata": {
    "execution": {
     "iopub.execute_input": "2024-03-03T11:29:53.641588Z",
     "iopub.status.busy": "2024-03-03T11:29:53.640953Z",
     "iopub.status.idle": "2024-03-03T11:36:03.770961Z",
     "shell.execute_reply": "2024-03-03T11:36:03.769638Z"
    },
    "papermill": {
     "duration": 370.298289,
     "end_time": "2024-03-03T11:36:03.928067",
     "exception": false,
     "start_time": "2024-03-03T11:29:53.629778",
     "status": "completed"
    },
    "tags": []
   },
   "outputs": [
    {
     "name": "stdout",
     "output_type": "stream",
     "text": [
      "Epoch 1/60\n",
      "\u001b[1m235/235\u001b[0m \u001b[32m━━━━━━━━━━━━━━━━━━━━\u001b[0m\u001b[37m\u001b[0m \u001b[1m24s\u001b[0m 98ms/step - accuracy: 0.8384 - loss: 0.5946 - val_accuracy: 0.9707 - val_loss: 0.1001\n",
      "Epoch 2/60\n",
      "\u001b[1m235/235\u001b[0m \u001b[32m━━━━━━━━━━━━━━━━━━━━\u001b[0m\u001b[37m\u001b[0m \u001b[1m41s\u001b[0m 97ms/step - accuracy: 0.9748 - loss: 0.0851 - val_accuracy: 0.9807 - val_loss: 0.0573\n",
      "Epoch 3/60\n",
      "\u001b[1m235/235\u001b[0m \u001b[32m━━━━━━━━━━━━━━━━━━━━\u001b[0m\u001b[37m\u001b[0m \u001b[1m41s\u001b[0m 97ms/step - accuracy: 0.9838 - loss: 0.0535 - val_accuracy: 0.9849 - val_loss: 0.0458\n",
      "Epoch 4/60\n",
      "\u001b[1m235/235\u001b[0m \u001b[32m━━━━━━━━━━━━━━━━━━━━\u001b[0m\u001b[37m\u001b[0m \u001b[1m41s\u001b[0m 98ms/step - accuracy: 0.9865 - loss: 0.0450 - val_accuracy: 0.9855 - val_loss: 0.0422\n",
      "Epoch 5/60\n",
      "\u001b[1m235/235\u001b[0m \u001b[32m━━━━━━━━━━━━━━━━━━━━\u001b[0m\u001b[37m\u001b[0m \u001b[1m39s\u001b[0m 90ms/step - accuracy: 0.9889 - loss: 0.0362 - val_accuracy: 0.9865 - val_loss: 0.0383\n",
      "Epoch 6/60\n",
      "\u001b[1m235/235\u001b[0m \u001b[32m━━━━━━━━━━━━━━━━━━━━\u001b[0m\u001b[37m\u001b[0m \u001b[1m41s\u001b[0m 90ms/step - accuracy: 0.9915 - loss: 0.0298 - val_accuracy: 0.9873 - val_loss: 0.0359\n",
      "Epoch 7/60\n",
      "\u001b[1m235/235\u001b[0m \u001b[32m━━━━━━━━━━━━━━━━━━━━\u001b[0m\u001b[37m\u001b[0m \u001b[1m41s\u001b[0m 91ms/step - accuracy: 0.9926 - loss: 0.0241 - val_accuracy: 0.9887 - val_loss: 0.0328\n",
      "Epoch 8/60\n",
      "\u001b[1m235/235\u001b[0m \u001b[32m━━━━━━━━━━━━━━━━━━━━\u001b[0m\u001b[37m\u001b[0m \u001b[1m40s\u001b[0m 89ms/step - accuracy: 0.9944 - loss: 0.0202 - val_accuracy: 0.9866 - val_loss: 0.0391\n",
      "Epoch 9/60\n",
      "\u001b[1m235/235\u001b[0m \u001b[32m━━━━━━━━━━━━━━━━━━━━\u001b[0m\u001b[37m\u001b[0m \u001b[1m42s\u001b[0m 94ms/step - accuracy: 0.9954 - loss: 0.0158 - val_accuracy: 0.9888 - val_loss: 0.0328\n"
     ]
    },
    {
     "data": {
      "text/plain": [
       "<keras.src.callbacks.history.History at 0x7a24d921b2b0>"
      ]
     },
     "execution_count": 20,
     "metadata": {},
     "output_type": "execute_result"
    }
   ],
   "source": [
    "model.fit(x=X_train,y=y_train_c,validation_data=(X_test,y_test_c),batch_size=256,epochs=60,callbacks=[callback])"
   ]
  },
  {
   "cell_type": "markdown",
   "id": "74f656fa",
   "metadata": {
    "papermill": {
     "duration": 0.149819,
     "end_time": "2024-03-03T11:36:04.228893",
     "exception": false,
     "start_time": "2024-03-03T11:36:04.079074",
     "status": "completed"
    },
    "tags": []
   },
   "source": [
    "# Model Evaluation"
   ]
  },
  {
   "cell_type": "code",
   "execution_count": 21,
   "id": "f0622b12",
   "metadata": {
    "execution": {
     "iopub.execute_input": "2024-03-03T11:36:04.532870Z",
     "iopub.status.busy": "2024-03-03T11:36:04.532424Z",
     "iopub.status.idle": "2024-03-03T11:36:04.541221Z",
     "shell.execute_reply": "2024-03-03T11:36:04.539844Z"
    },
    "papermill": {
     "duration": 0.164049,
     "end_time": "2024-03-03T11:36:04.543443",
     "exception": false,
     "start_time": "2024-03-03T11:36:04.379394",
     "status": "completed"
    },
    "tags": []
   },
   "outputs": [],
   "source": [
    "history = pd.DataFrame(model.history.history)"
   ]
  },
  {
   "cell_type": "code",
   "execution_count": 22,
   "id": "198d610d",
   "metadata": {
    "execution": {
     "iopub.execute_input": "2024-03-03T11:36:04.858041Z",
     "iopub.status.busy": "2024-03-03T11:36:04.857168Z",
     "iopub.status.idle": "2024-03-03T11:36:05.179193Z",
     "shell.execute_reply": "2024-03-03T11:36:05.177995Z"
    },
    "papermill": {
     "duration": 0.483839,
     "end_time": "2024-03-03T11:36:05.181602",
     "exception": false,
     "start_time": "2024-03-03T11:36:04.697763",
     "status": "completed"
    },
    "tags": []
   },
   "outputs": [
    {
     "data": {
      "text/plain": [
       "<Axes: >"
      ]
     },
     "execution_count": 22,
     "metadata": {},
     "output_type": "execute_result"
    },
    {
     "data": {
      "image/png": "[encoded data removed]",
      "text/plain": [
       "<Figure size 640x480 with 1 Axes>"
      ]
     },
     "metadata": {},
     "output_type": "display_data"
    }
   ],
   "source": [
    "history[['loss','val_loss']].plot() #Callbacks helps to prevent model from overfitting\n",
    "#can see that epoch stopped when there is slight increase in val_loss and decrease in loss"
   ]
  },
  {
   "cell_type": "code",
   "execution_count": 23,
   "id": "321bee7b",
   "metadata": {
    "execution": {
     "iopub.execute_input": "2024-03-03T11:36:05.493202Z",
     "iopub.status.busy": "2024-03-03T11:36:05.492258Z",
     "iopub.status.idle": "2024-03-03T11:36:07.044329Z",
     "shell.execute_reply": "2024-03-03T11:36:07.043061Z"
    },
    "papermill": {
     "duration": 1.708858,
     "end_time": "2024-03-03T11:36:07.046921",
     "exception": false,
     "start_time": "2024-03-03T11:36:05.338063",
     "status": "completed"
    },
    "tags": []
   },
   "outputs": [
    {
     "name": "stdout",
     "output_type": "stream",
     "text": [
      "\u001b[1m313/313\u001b[0m \u001b[32m━━━━━━━━━━━━━━━━━━━━\u001b[0m\u001b[37m\u001b[0m \u001b[1m1s\u001b[0m 4ms/step - accuracy: 0.9853 - loss: 0.0426\n"
     ]
    },
    {
     "data": {
      "text/plain": [
       "[0.033581580966711044, 0.9886999726295471]"
      ]
     },
     "execution_count": 23,
     "metadata": {},
     "output_type": "execute_result"
    }
   ],
   "source": [
    "model.evaluate(X_test,y_test_c)"
   ]
  },
  {
   "cell_type": "code",
   "execution_count": 24,
   "id": "efc23313",
   "metadata": {
    "execution": {
     "iopub.execute_input": "2024-03-03T11:36:07.357453Z",
     "iopub.status.busy": "2024-03-03T11:36:07.357007Z",
     "iopub.status.idle": "2024-03-03T11:36:09.118235Z",
     "shell.execute_reply": "2024-03-03T11:36:09.117258Z"
    },
    "papermill": {
     "duration": 1.918863,
     "end_time": "2024-03-03T11:36:09.120786",
     "exception": false,
     "start_time": "2024-03-03T11:36:07.201923",
     "status": "completed"
    },
    "tags": []
   },
   "outputs": [
    {
     "name": "stdout",
     "output_type": "stream",
     "text": [
      "\u001b[1m313/313\u001b[0m \u001b[32m━━━━━━━━━━━━━━━━━━━━\u001b[0m\u001b[37m\u001b[0m \u001b[1m2s\u001b[0m 5ms/step\n"
     ]
    }
   ],
   "source": [
    "y_pred = np.argmax(model.predict(X_test.reshape(10000,28,28,1)),axis=1)"
   ]
  },
  {
   "cell_type": "code",
   "execution_count": 25,
   "id": "5a40db61",
   "metadata": {
    "execution": {
     "iopub.execute_input": "2024-03-03T11:36:09.432009Z",
     "iopub.status.busy": "2024-03-03T11:36:09.430822Z",
     "iopub.status.idle": "2024-03-03T11:36:09.812174Z",
     "shell.execute_reply": "2024-03-03T11:36:09.811021Z"
    },
    "papermill": {
     "duration": 0.536721,
     "end_time": "2024-03-03T11:36:09.814371",
     "exception": false,
     "start_time": "2024-03-03T11:36:09.277650",
     "status": "completed"
    },
    "tags": []
   },
   "outputs": [
    {
     "data": {
      "text/plain": [
       "<Axes: >"
      ]
     },
     "execution_count": 25,
     "metadata": {},
     "output_type": "execute_result"
    },
    {
     "data": {
      "image/png": "[encoded data removed]",
      "text/plain": [
       "<Figure size 640x480 with 2 Axes>"
      ]
     },
     "metadata": {},
     "output_type": "display_data"
    }
   ],
   "source": [
    "sns.heatmap(confusion_matrix(y_test,y_pred))"
   ]
  },
  {
   "cell_type": "code",
   "execution_count": 26,
   "id": "bb89606c",
   "metadata": {
    "execution": {
     "iopub.execute_input": "2024-03-03T11:36:10.192297Z",
     "iopub.status.busy": "2024-03-03T11:36:10.191873Z",
     "iopub.status.idle": "2024-03-03T11:36:10.198552Z",
     "shell.execute_reply": "2024-03-03T11:36:10.197421Z"
    },
    "papermill": {
     "duration": 0.229927,
     "end_time": "2024-03-03T11:36:10.200855",
     "exception": false,
     "start_time": "2024-03-03T11:36:09.970928",
     "status": "completed"
    },
    "tags": []
   },
   "outputs": [
    {
     "data": {
      "text/plain": [
       "array([7, 2, 1, ..., 4, 5, 6])"
      ]
     },
     "execution_count": 26,
     "metadata": {},
     "output_type": "execute_result"
    }
   ],
   "source": [
    "y_pred"
   ]
  },
  {
   "cell_type": "code",
   "execution_count": 27,
   "id": "8ae1fd34",
   "metadata": {
    "execution": {
     "iopub.execute_input": "2024-03-03T11:36:10.506028Z",
     "iopub.status.busy": "2024-03-03T11:36:10.505652Z",
     "iopub.status.idle": "2024-03-03T11:36:10.515414Z",
     "shell.execute_reply": "2024-03-03T11:36:10.514542Z"
    },
    "papermill": {
     "duration": 0.165033,
     "end_time": "2024-03-03T11:36:10.517636",
     "exception": false,
     "start_time": "2024-03-03T11:36:10.352603",
     "status": "completed"
    },
    "tags": []
   },
   "outputs": [
    {
     "name": "stdout",
     "output_type": "stream",
     "text": [
      "Accuracy_Score:------------\n"
     ]
    },
    {
     "data": {
      "text/plain": [
       "0.9887"
      ]
     },
     "execution_count": 27,
     "metadata": {},
     "output_type": "execute_result"
    }
   ],
   "source": [
    "print('Accuracy_Score:------------')\n",
    "accuracy_score(y_test,y_pred)"
   ]
  },
  {
   "cell_type": "markdown",
   "id": "f84cf202",
   "metadata": {
    "papermill": {
     "duration": 0.154093,
     "end_time": "2024-03-03T11:36:10.824820",
     "exception": false,
     "start_time": "2024-03-03T11:36:10.670727",
     "status": "completed"
    },
    "tags": []
   },
   "source": [
    "# Prediction"
   ]
  },
  {
   "cell_type": "code",
   "execution_count": 28,
   "id": "b1203253",
   "metadata": {
    "execution": {
     "iopub.execute_input": "2024-03-03T11:36:11.148968Z",
     "iopub.status.busy": "2024-03-03T11:36:11.147795Z",
     "iopub.status.idle": "2024-03-03T11:36:11.153900Z",
     "shell.execute_reply": "2024-03-03T11:36:11.152696Z"
    },
    "papermill": {
     "duration": 0.175867,
     "end_time": "2024-03-03T11:36:11.156306",
     "exception": false,
     "start_time": "2024-03-03T11:36:10.980439",
     "status": "completed"
    },
    "tags": []
   },
   "outputs": [],
   "source": [
    "sample_image = X_test[99]"
   ]
  },
  {
   "cell_type": "code",
   "execution_count": 29,
   "id": "bbf2ef53",
   "metadata": {
    "execution": {
     "iopub.execute_input": "2024-03-03T11:36:11.492357Z",
     "iopub.status.busy": "2024-03-03T11:36:11.491249Z",
     "iopub.status.idle": "2024-03-03T11:36:11.497545Z",
     "shell.execute_reply": "2024-03-03T11:36:11.496424Z"
    },
    "papermill": {
     "duration": 0.172011,
     "end_time": "2024-03-03T11:36:11.499653",
     "exception": false,
     "start_time": "2024-03-03T11:36:11.327642",
     "status": "completed"
    },
    "tags": []
   },
   "outputs": [],
   "source": [
    "sample_image = sample_image"
   ]
  },
  {
   "cell_type": "code",
   "execution_count": 30,
   "id": "f5ea4ee9",
   "metadata": {
    "execution": {
     "iopub.execute_input": "2024-03-03T11:36:11.814864Z",
     "iopub.status.busy": "2024-03-03T11:36:11.813836Z",
     "iopub.status.idle": "2024-03-03T11:36:12.057953Z",
     "shell.execute_reply": "2024-03-03T11:36:12.056757Z"
    },
    "papermill": {
     "duration": 0.402696,
     "end_time": "2024-03-03T11:36:12.060291",
     "exception": false,
     "start_time": "2024-03-03T11:36:11.657595",
     "status": "completed"
    },
    "tags": []
   },
   "outputs": [
    {
     "data": {
      "text/plain": [
       "<matplotlib.image.AxesImage at 0x7a24b04ad1b0>"
      ]
     },
     "execution_count": 30,
     "metadata": {},
     "output_type": "execute_result"
    },
    {
     "data": {
      "image/png": "[encoded data removed]",
      "text/plain": [
       "<Figure size 640x480 with 1 Axes>"
      ]
     },
     "metadata": {},
     "output_type": "display_data"
    }
   ],
   "source": [
    "plt.imshow(sample_image)"
   ]
  },
  {
   "cell_type": "code",
   "execution_count": 31,
   "id": "357aa7bb",
   "metadata": {
    "execution": {
     "iopub.execute_input": "2024-03-03T11:36:12.382007Z",
     "iopub.status.busy": "2024-03-03T11:36:12.381634Z",
     "iopub.status.idle": "2024-03-03T11:36:12.483931Z",
     "shell.execute_reply": "2024-03-03T11:36:12.482815Z"
    },
    "papermill": {
     "duration": 0.265349,
     "end_time": "2024-03-03T11:36:12.487345",
     "exception": false,
     "start_time": "2024-03-03T11:36:12.221996",
     "status": "completed"
    },
    "tags": []
   },
   "outputs": [
    {
     "name": "stdout",
     "output_type": "stream",
     "text": [
      "\u001b[1m1/1\u001b[0m \u001b[32m━━━━━━━━━━━━━━━━━━━━\u001b[0m\u001b[37m\u001b[0m \u001b[1m0s\u001b[0m 37ms/step\n"
     ]
    }
   ],
   "source": [
    "pred = model.predict(sample_image.reshape(1,28,28,1)) #(batch,height,width,color)"
   ]
  },
  {
   "cell_type": "code",
   "execution_count": 32,
   "id": "7fb53d27",
   "metadata": {
    "execution": {
     "iopub.execute_input": "2024-03-03T11:36:12.806863Z",
     "iopub.status.busy": "2024-03-03T11:36:12.806439Z",
     "iopub.status.idle": "2024-03-03T11:36:12.811086Z",
     "shell.execute_reply": "2024-03-03T11:36:12.810191Z"
    },
    "papermill": {
     "duration": 0.164257,
     "end_time": "2024-03-03T11:36:12.813197",
     "exception": false,
     "start_time": "2024-03-03T11:36:12.648940",
     "status": "completed"
    },
    "tags": []
   },
   "outputs": [],
   "source": [
    "classes = np.argmax(pred,axis=1)"
   ]
  },
  {
   "cell_type": "code",
   "execution_count": 33,
   "id": "fd350e80",
   "metadata": {
    "execution": {
     "iopub.execute_input": "2024-03-03T11:36:13.191352Z",
     "iopub.status.busy": "2024-03-03T11:36:13.190652Z",
     "iopub.status.idle": "2024-03-03T11:36:13.196642Z",
     "shell.execute_reply": "2024-03-03T11:36:13.195640Z"
    },
    "papermill": {
     "duration": 0.16789,
     "end_time": "2024-03-03T11:36:13.198793",
     "exception": false,
     "start_time": "2024-03-03T11:36:13.030903",
     "status": "completed"
    },
    "tags": []
   },
   "outputs": [
    {
     "data": {
      "text/plain": [
       "array([9])"
      ]
     },
     "execution_count": 33,
     "metadata": {},
     "output_type": "execute_result"
    }
   ],
   "source": [
    "classes #thus it is-> 9"
   ]
  }
 ],
 "metadata": {
  "kaggle": {
   "accelerator": "none",
   "dataSources": [
    {
     "databundleVersionId": 861823,
     "sourceId": 3004,
     "sourceType": "competition"
    }
   ],
   "dockerImageVersionId": 30664,
   "isGpuEnabled": false,
   "isInternetEnabled": true,
   "language": "python",
   "sourceType": "notebook"
  },
  "kernelspec": {
   "display_name": "Python 3",
   "language": "python",
   "name": "python3"
  },
  "language_info": {
   "codemirror_mode": {
    "name": "ipython",
    "version": 3
   },
   "file_extension": ".py",
   "mimetype": "text/x-python",
   "name": "python",
   "nbconvert_exporter": "python",
   "pygments_lexer": "ipython3",
   "version": "3.10.13"
  },
  "papermill": {
   "default_parameters": {},
   "duration": 401.360295,
   "end_time": "2024-03-03T11:36:14.980778",
   "environment_variables": {},
   "exception": null,
   "input_path": "__notebook__.ipynb",
   "output_path": "__notebook__.ipynb",
   "parameters": {},
   "start_time": "2024-03-03T11:29:33.620483",
   "version": "2.5.0"
  }
 },
 "nbformat": 4,
 "nbformat_minor": 5
}
