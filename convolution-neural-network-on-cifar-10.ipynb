{
 "cells": [
  {
   "cell_type": "code",
   "execution_count": 1,
   "id": "c4da480f",
   "metadata": {
    "execution": {
     "iopub.execute_input": "2024-03-03T15:49:46.833427Z",
     "iopub.status.busy": "2024-03-03T15:49:46.832480Z",
     "iopub.status.idle": "2024-03-03T15:50:05.493273Z",
     "shell.execute_reply": "2024-03-03T15:50:05.491679Z"
    },
    "papermill": {
     "duration": 18.675129,
     "end_time": "2024-03-03T15:50:05.495916",
     "exception": false,
     "start_time": "2024-03-03T15:49:46.820787",
     "status": "completed"
    },
    "tags": []
   },
   "outputs": [
    {
     "name": "stderr",
     "output_type": "stream",
     "text": [
      "2024-03-03 15:49:52.002944: E external/local_xla/xla/stream_executor/cuda/cuda_dnn.cc:9261] Unable to register cuDNN factory: Attempting to register factory for plugin cuDNN when one has already been registered\n",
      "2024-03-03 15:49:52.003101: E external/local_xla/xla/stream_executor/cuda/cuda_fft.cc:607] Unable to register cuFFT factory: Attempting to register factory for plugin cuFFT when one has already been registered\n",
      "2024-03-03 15:49:52.190368: E external/local_xla/xla/stream_executor/cuda/cuda_blas.cc:1515] Unable to register cuBLAS factory: Attempting to register factory for plugin cuBLAS when one has already been registered\n"
     ]
    }
   ],
   "source": [
    "import pandas as pd\n",
    "import numpy as np\n",
    "import seaborn as sns\n",
    "import matplotlib.pyplot as plt\n",
    "from sklearn.metrics import accuracy_score,confusion_matrix,classification_report\n",
    "from tensorflow.keras.datasets import cifar10\n",
    "from tensorflow.keras.utils import to_categorical\n",
    "from tensorflow.keras.models import Sequential\n",
    "from tensorflow.keras.layers import Dense,Flatten,Conv2D,MaxPool2D\n",
    "from tensorflow.keras.callbacks import EarlyStopping"
   ]
  },
  {
   "cell_type": "markdown",
   "id": "b6d1ed8f",
   "metadata": {
    "papermill": {
     "duration": 0.007946,
     "end_time": "2024-03-03T15:50:05.512533",
     "exception": false,
     "start_time": "2024-03-03T15:50:05.504587",
     "status": "completed"
    },
    "tags": []
   },
   "source": [
    "### Loading CIFAR-10 data"
   ]
  },
  {
   "cell_type": "code",
   "execution_count": 2,
   "id": "3d5c8229",
   "metadata": {
    "execution": {
     "iopub.execute_input": "2024-03-03T15:50:05.532585Z",
     "iopub.status.busy": "2024-03-03T15:50:05.531911Z",
     "iopub.status.idle": "2024-03-03T15:50:09.498839Z",
     "shell.execute_reply": "2024-03-03T15:50:09.497749Z"
    },
    "papermill": {
     "duration": 3.979459,
     "end_time": "2024-03-03T15:50:09.501487",
     "exception": false,
     "start_time": "2024-03-03T15:50:05.522028",
     "status": "completed"
    },
    "tags": []
   },
   "outputs": [
    {
     "name": "stdout",
     "output_type": "stream",
     "text": [
      "Downloading data from https://www.cs.toronto.edu/~kriz/cifar-10-python.tar.gz\n",
      "\u001b[1m170498071/170498071\u001b[0m \u001b[32m━━━━━━━━━━━━━━━━━━━━\u001b[0m\u001b[37m\u001b[0m \u001b[1m2s\u001b[0m 0us/step\n"
     ]
    }
   ],
   "source": [
    "(X_train,y_train),(X_test,y_test) = cifar10.load_data()"
   ]
  },
  {
   "cell_type": "code",
   "execution_count": 3,
   "id": "7a9faadc",
   "metadata": {
    "execution": {
     "iopub.execute_input": "2024-03-03T15:50:09.529901Z",
     "iopub.status.busy": "2024-03-03T15:50:09.529508Z",
     "iopub.status.idle": "2024-03-03T15:50:09.535313Z",
     "shell.execute_reply": "2024-03-03T15:50:09.534165Z"
    },
    "papermill": {
     "duration": 0.021966,
     "end_time": "2024-03-03T15:50:09.538049",
     "exception": false,
     "start_time": "2024-03-03T15:50:09.516083",
     "status": "completed"
    },
    "tags": []
   },
   "outputs": [],
   "source": [
    "labels = {  0:'airplane',\n",
    "            1:'automobile', \n",
    "            2:'bird', \n",
    "            3:'cat', \n",
    "            4:'deer',\n",
    "            5:'dog', \n",
    "            6:'frog', \n",
    "            7:'horse', \n",
    "            8:'ship', \n",
    "            9:'truck'} "
   ]
  },
  {
   "cell_type": "code",
   "execution_count": 4,
   "id": "8e827d6f",
   "metadata": {
    "execution": {
     "iopub.execute_input": "2024-03-03T15:50:09.564262Z",
     "iopub.status.busy": "2024-03-03T15:50:09.563915Z",
     "iopub.status.idle": "2024-03-03T15:50:09.573521Z",
     "shell.execute_reply": "2024-03-03T15:50:09.572508Z"
    },
    "papermill": {
     "duration": 0.026022,
     "end_time": "2024-03-03T15:50:09.575939",
     "exception": false,
     "start_time": "2024-03-03T15:50:09.549917",
     "status": "completed"
    },
    "tags": []
   },
   "outputs": [
    {
     "data": {
      "text/plain": [
       "(50000, 32, 32, 3)"
      ]
     },
     "execution_count": 4,
     "metadata": {},
     "output_type": "execute_result"
    }
   ],
   "source": [
    "X_train.shape"
   ]
  },
  {
   "cell_type": "code",
   "execution_count": 5,
   "id": "a872e0cf",
   "metadata": {
    "execution": {
     "iopub.execute_input": "2024-03-03T15:50:09.599756Z",
     "iopub.status.busy": "2024-03-03T15:50:09.599431Z",
     "iopub.status.idle": "2024-03-03T15:50:09.604600Z",
     "shell.execute_reply": "2024-03-03T15:50:09.603733Z"
    },
    "papermill": {
     "duration": 0.019651,
     "end_time": "2024-03-03T15:50:09.606551",
     "exception": false,
     "start_time": "2024-03-03T15:50:09.586900",
     "status": "completed"
    },
    "tags": []
   },
   "outputs": [
    {
     "data": {
      "text/plain": [
       "(50000, 1)"
      ]
     },
     "execution_count": 5,
     "metadata": {},
     "output_type": "execute_result"
    }
   ],
   "source": [
    "y_train.shape"
   ]
  },
  {
   "cell_type": "code",
   "execution_count": 6,
   "id": "ff6265ab",
   "metadata": {
    "execution": {
     "iopub.execute_input": "2024-03-03T15:50:09.631077Z",
     "iopub.status.busy": "2024-03-03T15:50:09.630461Z",
     "iopub.status.idle": "2024-03-03T15:50:09.636571Z",
     "shell.execute_reply": "2024-03-03T15:50:09.635636Z"
    },
    "papermill": {
     "duration": 0.020539,
     "end_time": "2024-03-03T15:50:09.638352",
     "exception": false,
     "start_time": "2024-03-03T15:50:09.617813",
     "status": "completed"
    },
    "tags": []
   },
   "outputs": [
    {
     "data": {
      "text/plain": [
       "(10000, 32, 32, 3)"
      ]
     },
     "execution_count": 6,
     "metadata": {},
     "output_type": "execute_result"
    }
   ],
   "source": [
    "X_test.shape"
   ]
  },
  {
   "cell_type": "code",
   "execution_count": 7,
   "id": "aaeccedd",
   "metadata": {
    "execution": {
     "iopub.execute_input": "2024-03-03T15:50:09.663177Z",
     "iopub.status.busy": "2024-03-03T15:50:09.662827Z",
     "iopub.status.idle": "2024-03-03T15:50:09.666735Z",
     "shell.execute_reply": "2024-03-03T15:50:09.665814Z"
    },
    "papermill": {
     "duration": 0.017942,
     "end_time": "2024-03-03T15:50:09.668356",
     "exception": false,
     "start_time": "2024-03-03T15:50:09.650414",
     "status": "completed"
    },
    "tags": []
   },
   "outputs": [],
   "source": [
    "image = X_train[2]"
   ]
  },
  {
   "cell_type": "code",
   "execution_count": 8,
   "id": "15fe9c09",
   "metadata": {
    "execution": {
     "iopub.execute_input": "2024-03-03T15:50:09.691794Z",
     "iopub.status.busy": "2024-03-03T15:50:09.691234Z",
     "iopub.status.idle": "2024-03-03T15:50:09.921291Z",
     "shell.execute_reply": "2024-03-03T15:50:09.919632Z"
    },
    "papermill": {
     "duration": 0.244561,
     "end_time": "2024-03-03T15:50:09.923894",
     "exception": false,
     "start_time": "2024-03-03T15:50:09.679333",
     "status": "completed"
    },
    "tags": []
   },
   "outputs": [
    {
     "data": {
      "text/plain": [
       "<matplotlib.image.AxesImage at 0x7f5624c96350>"
      ]
     },
     "execution_count": 8,
     "metadata": {},
     "output_type": "execute_result"
    },
    {
     "data": {
      "image/png": "[encoded data removed]",
      "text/plain": [
       "<Figure size 640x480 with 1 Axes>"
      ]
     },
     "metadata": {},
     "output_type": "display_data"
    }
   ],
   "source": [
    "plt.imshow(image) #may be squirrel let's check it"
   ]
  },
  {
   "cell_type": "code",
   "execution_count": 9,
   "id": "c6ab57fa",
   "metadata": {
    "execution": {
     "iopub.execute_input": "2024-03-03T15:50:09.949268Z",
     "iopub.status.busy": "2024-03-03T15:50:09.948858Z",
     "iopub.status.idle": "2024-03-03T15:50:09.956921Z",
     "shell.execute_reply": "2024-03-03T15:50:09.955332Z"
    },
    "papermill": {
     "duration": 0.023806,
     "end_time": "2024-03-03T15:50:09.959734",
     "exception": false,
     "start_time": "2024-03-03T15:50:09.935928",
     "status": "completed"
    },
    "tags": []
   },
   "outputs": [
    {
     "data": {
      "text/plain": [
       "'truck'"
      ]
     },
     "execution_count": 9,
     "metadata": {},
     "output_type": "execute_result"
    }
   ],
   "source": [
    "labels[y_train[2][0]]"
   ]
  },
  {
   "cell_type": "markdown",
   "id": "980d7bd6",
   "metadata": {
    "papermill": {
     "duration": 0.011119,
     "end_time": "2024-03-03T15:50:09.983408",
     "exception": false,
     "start_time": "2024-03-03T15:50:09.972289",
     "status": "completed"
    },
    "tags": []
   },
   "source": [
    "> Since the image is too compressed to (32,32,3) it is actually very difficult for the human eyes to intrepet"
   ]
  },
  {
   "cell_type": "markdown",
   "id": "3037f01e",
   "metadata": {
    "papermill": {
     "duration": 0.011164,
     "end_time": "2024-03-03T15:50:10.005858",
     "exception": false,
     "start_time": "2024-03-03T15:50:09.994694",
     "status": "completed"
    },
    "tags": []
   },
   "source": [
    "## Preprocessing The Data"
   ]
  },
  {
   "cell_type": "code",
   "execution_count": 10,
   "id": "54a87f3f",
   "metadata": {
    "execution": {
     "iopub.execute_input": "2024-03-03T15:50:10.030225Z",
     "iopub.status.busy": "2024-03-03T15:50:10.029900Z",
     "iopub.status.idle": "2024-03-03T15:50:10.057330Z",
     "shell.execute_reply": "2024-03-03T15:50:10.055843Z"
    },
    "papermill": {
     "duration": 0.042564,
     "end_time": "2024-03-03T15:50:10.059853",
     "exception": false,
     "start_time": "2024-03-03T15:50:10.017289",
     "status": "completed"
    },
    "tags": []
   },
   "outputs": [
    {
     "data": {
      "text/plain": [
       "(255, 0)"
      ]
     },
     "execution_count": 10,
     "metadata": {},
     "output_type": "execute_result"
    }
   ],
   "source": [
    "X_train.max(),X_train.min()"
   ]
  },
  {
   "cell_type": "code",
   "execution_count": 11,
   "id": "8e1e0e0c",
   "metadata": {
    "execution": {
     "iopub.execute_input": "2024-03-03T15:50:10.084989Z",
     "iopub.status.busy": "2024-03-03T15:50:10.084659Z",
     "iopub.status.idle": "2024-03-03T15:50:10.359707Z",
     "shell.execute_reply": "2024-03-03T15:50:10.358359Z"
    },
    "papermill": {
     "duration": 0.290066,
     "end_time": "2024-03-03T15:50:10.361977",
     "exception": false,
     "start_time": "2024-03-03T15:50:10.071911",
     "status": "completed"
    },
    "tags": []
   },
   "outputs": [],
   "source": [
    "X_train = X_train/255\n",
    "X_test = X_test/255"
   ]
  },
  {
   "cell_type": "code",
   "execution_count": 12,
   "id": "a05e8dc0",
   "metadata": {
    "execution": {
     "iopub.execute_input": "2024-03-03T15:50:10.387686Z",
     "iopub.status.busy": "2024-03-03T15:50:10.387336Z",
     "iopub.status.idle": "2024-03-03T15:50:10.395144Z",
     "shell.execute_reply": "2024-03-03T15:50:10.393696Z"
    },
    "papermill": {
     "duration": 0.023012,
     "end_time": "2024-03-03T15:50:10.397401",
     "exception": false,
     "start_time": "2024-03-03T15:50:10.374389",
     "status": "completed"
    },
    "tags": []
   },
   "outputs": [
    {
     "data": {
      "text/plain": [
       "array([[6],\n",
       "       [9],\n",
       "       [9],\n",
       "       ...,\n",
       "       [9],\n",
       "       [1],\n",
       "       [1]], dtype=uint8)"
      ]
     },
     "execution_count": 12,
     "metadata": {},
     "output_type": "execute_result"
    }
   ],
   "source": [
    "y_train"
   ]
  },
  {
   "cell_type": "code",
   "execution_count": 13,
   "id": "bc6899b4",
   "metadata": {
    "execution": {
     "iopub.execute_input": "2024-03-03T15:50:10.423848Z",
     "iopub.status.busy": "2024-03-03T15:50:10.423513Z",
     "iopub.status.idle": "2024-03-03T15:50:10.430265Z",
     "shell.execute_reply": "2024-03-03T15:50:10.428333Z"
    },
    "papermill": {
     "duration": 0.022093,
     "end_time": "2024-03-03T15:50:10.432540",
     "exception": false,
     "start_time": "2024-03-03T15:50:10.410447",
     "status": "completed"
    },
    "tags": []
   },
   "outputs": [],
   "source": [
    "y_train_c = to_categorical(y_train,10)"
   ]
  },
  {
   "cell_type": "code",
   "execution_count": 14,
   "id": "ab18fe2c",
   "metadata": {
    "execution": {
     "iopub.execute_input": "2024-03-03T15:50:10.459623Z",
     "iopub.status.busy": "2024-03-03T15:50:10.459181Z",
     "iopub.status.idle": "2024-03-03T15:50:10.464320Z",
     "shell.execute_reply": "2024-03-03T15:50:10.462656Z"
    },
    "papermill": {
     "duration": 0.021799,
     "end_time": "2024-03-03T15:50:10.466880",
     "exception": false,
     "start_time": "2024-03-03T15:50:10.445081",
     "status": "completed"
    },
    "tags": []
   },
   "outputs": [],
   "source": [
    "y_test_c = to_categorical(y_test,10)"
   ]
  },
  {
   "cell_type": "code",
   "execution_count": 15,
   "id": "95203b75",
   "metadata": {
    "execution": {
     "iopub.execute_input": "2024-03-03T15:50:10.492692Z",
     "iopub.status.busy": "2024-03-03T15:50:10.492337Z",
     "iopub.status.idle": "2024-03-03T15:50:10.497815Z",
     "shell.execute_reply": "2024-03-03T15:50:10.496728Z"
    },
    "papermill": {
     "duration": 0.020386,
     "end_time": "2024-03-03T15:50:10.499486",
     "exception": false,
     "start_time": "2024-03-03T15:50:10.479100",
     "status": "completed"
    },
    "tags": []
   },
   "outputs": [
    {
     "data": {
      "text/plain": [
       "(50000, 10)"
      ]
     },
     "execution_count": 15,
     "metadata": {},
     "output_type": "execute_result"
    }
   ],
   "source": [
    "y_train_c.shape"
   ]
  },
  {
   "cell_type": "code",
   "execution_count": 16,
   "id": "87f87ca5",
   "metadata": {
    "execution": {
     "iopub.execute_input": "2024-03-03T15:50:10.525755Z",
     "iopub.status.busy": "2024-03-03T15:50:10.525361Z",
     "iopub.status.idle": "2024-03-03T15:50:10.529925Z",
     "shell.execute_reply": "2024-03-03T15:50:10.529274Z"
    },
    "papermill": {
     "duration": 0.020184,
     "end_time": "2024-03-03T15:50:10.531662",
     "exception": false,
     "start_time": "2024-03-03T15:50:10.511478",
     "status": "completed"
    },
    "tags": []
   },
   "outputs": [],
   "source": [
    "#reshaping\n",
    "X_train = X_train.reshape(50000,32,32,3)\n",
    "X_test = X_test.reshape(10000,32,32,3)"
   ]
  },
  {
   "cell_type": "markdown",
   "id": "7260ffee",
   "metadata": {
    "papermill": {
     "duration": 0.011455,
     "end_time": "2024-03-03T15:50:10.556353",
     "exception": false,
     "start_time": "2024-03-03T15:50:10.544898",
     "status": "completed"
    },
    "tags": []
   },
   "source": [
    "## Model Building"
   ]
  },
  {
   "cell_type": "code",
   "execution_count": 17,
   "id": "0f93c4c9",
   "metadata": {
    "execution": {
     "iopub.execute_input": "2024-03-03T15:50:10.581576Z",
     "iopub.status.busy": "2024-03-03T15:50:10.581181Z",
     "iopub.status.idle": "2024-03-03T15:50:10.709371Z",
     "shell.execute_reply": "2024-03-03T15:50:10.708385Z"
    },
    "papermill": {
     "duration": 0.142892,
     "end_time": "2024-03-03T15:50:10.711125",
     "exception": false,
     "start_time": "2024-03-03T15:50:10.568233",
     "status": "completed"
    },
    "tags": []
   },
   "outputs": [
    {
     "name": "stderr",
     "output_type": "stream",
     "text": [
      "/opt/conda/lib/python3.10/site-packages/keras/src/layers/convolutional/base_conv.py:99: UserWarning: Do not pass an `input_shape`/`input_dim` argument to a layer. When using Sequential models, prefer using an `Input(shape)` object as the first layer in the model instead.\n",
      "  super().__init__(\n"
     ]
    }
   ],
   "source": [
    "model = Sequential()\n",
    "\n",
    "#CNN\n",
    "model.add(Conv2D(filters=(32),kernel_size=(4,4),padding='Same',input_shape=(32,32,3),activation='relu'))\n",
    "#Pooling\n",
    "model.add(MaxPool2D(pool_size=(4,4)))\n",
    "\n",
    "#CNN\n",
    "model.add(Conv2D(filters=(32),kernel_size=(4,4),padding='Same',input_shape=(32,32,3),activation='relu'))\n",
    "#Pooling\n",
    "model.add(MaxPool2D(pool_size=(4,4)))\n",
    "#flatten\n",
    "model.add(Flatten())\n",
    "#Dense\n",
    "model.add(Dense(256,activation='relu'))\n",
    "model.add(Dense(128,activation='relu'))\n",
    "model.add(Dense(10,activation='softmax'))"
   ]
  },
  {
   "cell_type": "code",
   "execution_count": 18,
   "id": "5e71303c",
   "metadata": {
    "execution": {
     "iopub.execute_input": "2024-03-03T15:50:10.736091Z",
     "iopub.status.busy": "2024-03-03T15:50:10.735607Z",
     "iopub.status.idle": "2024-03-03T15:50:10.750693Z",
     "shell.execute_reply": "2024-03-03T15:50:10.749293Z"
    },
    "papermill": {
     "duration": 0.030372,
     "end_time": "2024-03-03T15:50:10.753235",
     "exception": false,
     "start_time": "2024-03-03T15:50:10.722863",
     "status": "completed"
    },
    "tags": []
   },
   "outputs": [],
   "source": [
    "model.compile(optimizer='adam',loss='categorical_crossentropy',metrics=['accuracy'])"
   ]
  },
  {
   "cell_type": "code",
   "execution_count": 19,
   "id": "62eb1146",
   "metadata": {
    "execution": {
     "iopub.execute_input": "2024-03-03T15:50:10.839373Z",
     "iopub.status.busy": "2024-03-03T15:50:10.839003Z",
     "iopub.status.idle": "2024-03-03T15:50:10.843820Z",
     "shell.execute_reply": "2024-03-03T15:50:10.842560Z"
    },
    "papermill": {
     "duration": 0.081065,
     "end_time": "2024-03-03T15:50:10.846528",
     "exception": false,
     "start_time": "2024-03-03T15:50:10.765463",
     "status": "completed"
    },
    "tags": []
   },
   "outputs": [],
   "source": [
    "callback = EarlyStopping(min_delta=0.001,patience=2,restore_best_weights=True)"
   ]
  },
  {
   "cell_type": "code",
   "execution_count": 20,
   "id": "066f13ed",
   "metadata": {
    "execution": {
     "iopub.execute_input": "2024-03-03T15:50:10.874667Z",
     "iopub.status.busy": "2024-03-03T15:50:10.873366Z",
     "iopub.status.idle": "2024-03-03T15:56:27.857123Z",
     "shell.execute_reply": "2024-03-03T15:56:27.854877Z"
    },
    "papermill": {
     "duration": 377.129394,
     "end_time": "2024-03-03T15:56:27.988933",
     "exception": false,
     "start_time": "2024-03-03T15:50:10.859539",
     "status": "completed"
    },
    "tags": []
   },
   "outputs": [
    {
     "name": "stdout",
     "output_type": "stream",
     "text": [
      "Epoch 1/50\n",
      "\u001b[1m196/196\u001b[0m \u001b[32m━━━━━━━━━━━━━━━━━━━━\u001b[0m\u001b[37m\u001b[0m \u001b[1m26s\u001b[0m 123ms/step - accuracy: 0.2666 - loss: 1.9820 - val_accuracy: 0.4284 - val_loss: 1.5655\n",
      "Epoch 2/50\n",
      "\u001b[1m196/196\u001b[0m \u001b[32m━━━━━━━━━━━━━━━━━━━━\u001b[0m\u001b[37m\u001b[0m \u001b[1m24s\u001b[0m 120ms/step - accuracy: 0.4506 - loss: 1.5049 - val_accuracy: 0.5096 - val_loss: 1.3411\n",
      "Epoch 3/50\n",
      "\u001b[1m196/196\u001b[0m \u001b[32m━━━━━━━━━━━━━━━━━━━━\u001b[0m\u001b[37m\u001b[0m \u001b[1m39s\u001b[0m 113ms/step - accuracy: 0.5197 - loss: 1.3263 - val_accuracy: 0.5265 - val_loss: 1.2941\n",
      "Epoch 4/50\n",
      "\u001b[1m196/196\u001b[0m \u001b[32m━━━━━━━━━━━━━━━━━━━━\u001b[0m\u001b[37m\u001b[0m \u001b[1m41s\u001b[0m 113ms/step - accuracy: 0.5580 - loss: 1.2317 - val_accuracy: 0.5718 - val_loss: 1.1947\n",
      "Epoch 5/50\n",
      "\u001b[1m196/196\u001b[0m \u001b[32m━━━━━━━━━━━━━━━━━━━━\u001b[0m\u001b[37m\u001b[0m \u001b[1m41s\u001b[0m 112ms/step - accuracy: 0.5841 - loss: 1.1577 - val_accuracy: 0.5898 - val_loss: 1.1536\n",
      "Epoch 6/50\n",
      "\u001b[1m196/196\u001b[0m \u001b[32m━━━━━━━━━━━━━━━━━━━━\u001b[0m\u001b[37m\u001b[0m \u001b[1m40s\u001b[0m 109ms/step - accuracy: 0.6086 - loss: 1.0994 - val_accuracy: 0.6166 - val_loss: 1.0980\n",
      "Epoch 7/50\n",
      "\u001b[1m196/196\u001b[0m \u001b[32m━━━━━━━━━━━━━━━━━━━━\u001b[0m\u001b[37m\u001b[0m \u001b[1m41s\u001b[0m 108ms/step - accuracy: 0.6265 - loss: 1.0486 - val_accuracy: 0.6192 - val_loss: 1.0827\n",
      "Epoch 8/50\n",
      "\u001b[1m196/196\u001b[0m \u001b[32m━━━━━━━━━━━━━━━━━━━━\u001b[0m\u001b[37m\u001b[0m \u001b[1m41s\u001b[0m 110ms/step - accuracy: 0.6396 - loss: 1.0162 - val_accuracy: 0.6396 - val_loss: 1.0314\n",
      "Epoch 9/50\n",
      "\u001b[1m196/196\u001b[0m \u001b[32m━━━━━━━━━━━━━━━━━━━━\u001b[0m\u001b[37m\u001b[0m \u001b[1m21s\u001b[0m 108ms/step - accuracy: 0.6539 - loss: 0.9777 - val_accuracy: 0.6177 - val_loss: 1.1226\n",
      "Epoch 10/50\n",
      "\u001b[1m196/196\u001b[0m \u001b[32m━━━━━━━━━━━━━━━━━━━━\u001b[0m\u001b[37m\u001b[0m \u001b[1m42s\u001b[0m 113ms/step - accuracy: 0.6593 - loss: 0.9693 - val_accuracy: 0.6379 - val_loss: 1.0493\n"
     ]
    },
    {
     "data": {
      "text/plain": [
       "<keras.src.callbacks.history.History at 0x7f55b8717550>"
      ]
     },
     "execution_count": 20,
     "metadata": {},
     "output_type": "execute_result"
    }
   ],
   "source": [
    "model.fit(x=X_train,\n",
    "         y=y_train_c,\n",
    "         validation_data=(X_test,y_test_c),\n",
    "         batch_size=256,\n",
    "         callbacks=[callback],\n",
    "         epochs=50)"
   ]
  },
  {
   "cell_type": "markdown",
   "id": "1a9a00cd",
   "metadata": {
    "papermill": {
     "duration": 0.14142,
     "end_time": "2024-03-03T15:56:28.263817",
     "exception": false,
     "start_time": "2024-03-03T15:56:28.122397",
     "status": "completed"
    },
    "tags": []
   },
   "source": [
    "## Model Evaluation"
   ]
  },
  {
   "cell_type": "code",
   "execution_count": 21,
   "id": "c314644e",
   "metadata": {
    "execution": {
     "iopub.execute_input": "2024-03-03T15:56:28.535917Z",
     "iopub.status.busy": "2024-03-03T15:56:28.535202Z",
     "iopub.status.idle": "2024-03-03T15:56:28.542598Z",
     "shell.execute_reply": "2024-03-03T15:56:28.541677Z"
    },
    "papermill": {
     "duration": 0.146548,
     "end_time": "2024-03-03T15:56:28.545233",
     "exception": false,
     "start_time": "2024-03-03T15:56:28.398685",
     "status": "completed"
    },
    "tags": []
   },
   "outputs": [],
   "source": [
    "history = pd.DataFrame(model.history.history)"
   ]
  },
  {
   "cell_type": "code",
   "execution_count": 22,
   "id": "762e9eb9",
   "metadata": {
    "execution": {
     "iopub.execute_input": "2024-03-03T15:56:28.815533Z",
     "iopub.status.busy": "2024-03-03T15:56:28.815090Z",
     "iopub.status.idle": "2024-03-03T15:56:29.075736Z",
     "shell.execute_reply": "2024-03-03T15:56:29.074168Z"
    },
    "papermill": {
     "duration": 0.398064,
     "end_time": "2024-03-03T15:56:29.077751",
     "exception": false,
     "start_time": "2024-03-03T15:56:28.679687",
     "status": "completed"
    },
    "tags": []
   },
   "outputs": [
    {
     "data": {
      "text/plain": [
       "<Axes: >"
      ]
     },
     "execution_count": 22,
     "metadata": {},
     "output_type": "execute_result"
    },
    {
     "data": {
      "image/png": "[encoded data removed]",
      "text/plain": [
       "<Figure size 640x480 with 1 Axes>"
      ]
     },
     "metadata": {},
     "output_type": "display_data"
    }
   ],
   "source": [
    "history.plot()"
   ]
  },
  {
   "cell_type": "code",
   "execution_count": 23,
   "id": "c655631a",
   "metadata": {
    "execution": {
     "iopub.execute_input": "2024-03-03T15:56:29.363645Z",
     "iopub.status.busy": "2024-03-03T15:56:29.362134Z",
     "iopub.status.idle": "2024-03-03T15:56:32.129743Z",
     "shell.execute_reply": "2024-03-03T15:56:32.128351Z"
    },
    "papermill": {
     "duration": 2.914054,
     "end_time": "2024-03-03T15:56:32.132522",
     "exception": false,
     "start_time": "2024-03-03T15:56:29.218468",
     "status": "completed"
    },
    "tags": []
   },
   "outputs": [
    {
     "name": "stdout",
     "output_type": "stream",
     "text": [
      "\u001b[1m313/313\u001b[0m \u001b[32m━━━━━━━━━━━━━━━━━━━━\u001b[0m\u001b[37m\u001b[0m \u001b[1m2s\u001b[0m 8ms/step - accuracy: 0.6458 - loss: 1.0173\n"
     ]
    },
    {
     "data": {
      "text/plain": [
       "[1.026077389717102, 0.6395999789237976]"
      ]
     },
     "execution_count": 23,
     "metadata": {},
     "output_type": "execute_result"
    }
   ],
   "source": [
    "model.evaluate(X_test,y_test_c)"
   ]
  },
  {
   "cell_type": "code",
   "execution_count": 24,
   "id": "0b5c2d5f",
   "metadata": {
    "execution": {
     "iopub.execute_input": "2024-03-03T15:56:32.432956Z",
     "iopub.status.busy": "2024-03-03T15:56:32.432579Z",
     "iopub.status.idle": "2024-03-03T15:56:37.874356Z",
     "shell.execute_reply": "2024-03-03T15:56:37.872703Z"
    },
    "papermill": {
     "duration": 5.590669,
     "end_time": "2024-03-03T15:56:37.877371",
     "exception": false,
     "start_time": "2024-03-03T15:56:32.286702",
     "status": "completed"
    },
    "tags": []
   },
   "outputs": [
    {
     "name": "stdout",
     "output_type": "stream",
     "text": [
      "\u001b[1m313/313\u001b[0m \u001b[32m━━━━━━━━━━━━━━━━━━━━\u001b[0m\u001b[37m\u001b[0m \u001b[1m2s\u001b[0m 8ms/step\n"
     ]
    }
   ],
   "source": [
    "predictions = np.argmax(model.predict(X_test),axis=1)"
   ]
  },
  {
   "cell_type": "code",
   "execution_count": 25,
   "id": "0314567b",
   "metadata": {
    "execution": {
     "iopub.execute_input": "2024-03-03T15:56:38.165286Z",
     "iopub.status.busy": "2024-03-03T15:56:38.164859Z",
     "iopub.status.idle": "2024-03-03T15:56:38.175961Z",
     "shell.execute_reply": "2024-03-03T15:56:38.174182Z"
    },
    "papermill": {
     "duration": 0.159146,
     "end_time": "2024-03-03T15:56:38.178952",
     "exception": false,
     "start_time": "2024-03-03T15:56:38.019806",
     "status": "completed"
    },
    "tags": []
   },
   "outputs": [
    {
     "data": {
      "text/plain": [
       "0.6396"
      ]
     },
     "execution_count": 25,
     "metadata": {},
     "output_type": "execute_result"
    }
   ],
   "source": [
    "accuracy_score(y_test,predictions)"
   ]
  },
  {
   "cell_type": "code",
   "execution_count": 26,
   "id": "9efaa679",
   "metadata": {
    "execution": {
     "iopub.execute_input": "2024-03-03T15:56:38.480817Z",
     "iopub.status.busy": "2024-03-03T15:56:38.480482Z",
     "iopub.status.idle": "2024-03-03T15:56:38.492554Z",
     "shell.execute_reply": "2024-03-03T15:56:38.491333Z"
    },
    "papermill": {
     "duration": 0.164515,
     "end_time": "2024-03-03T15:56:38.494651",
     "exception": false,
     "start_time": "2024-03-03T15:56:38.330136",
     "status": "completed"
    },
    "tags": []
   },
   "outputs": [
    {
     "data": {
      "text/plain": [
       "array([[644,  45,  86,  20,  20,   8,  14,   6, 121,  36],\n",
       "       [ 12, 797,  17,   3,   2,   6,  11,   4,  45, 103],\n",
       "       [ 66,   6, 558,  65,  64,  90,  93,  28,  16,  14],\n",
       "       [ 17,  16, 104, 401,  43, 219, 114,  35,  23,  28],\n",
       "       [ 25,   8, 129,  68, 457,  51, 130, 106,  21,   5],\n",
       "       [ 10,   7,  85, 196,  31, 535,  52,  57,  18,   9],\n",
       "       [  4,  13,  61,  58,  20,  21, 795,   7,  13,   8],\n",
       "       [ 19,   4,  39,  36,  56, 115,  23, 676,   6,  26],\n",
       "       [ 49,  42,  10,  15,   7,  15,   4,   6, 827,  25],\n",
       "       [ 32, 130,   7,  20,   4,  12,  19,  14,  56, 706]])"
      ]
     },
     "execution_count": 26,
     "metadata": {},
     "output_type": "execute_result"
    }
   ],
   "source": [
    "confusion_matrix(y_test,predictions)"
   ]
  },
  {
   "cell_type": "code",
   "execution_count": 27,
   "id": "357c6ea6",
   "metadata": {
    "execution": {
     "iopub.execute_input": "2024-03-03T15:56:38.852454Z",
     "iopub.status.busy": "2024-03-03T15:56:38.851995Z",
     "iopub.status.idle": "2024-03-03T15:56:39.211130Z",
     "shell.execute_reply": "2024-03-03T15:56:39.209354Z"
    },
    "papermill": {
     "duration": 0.507386,
     "end_time": "2024-03-03T15:56:39.214415",
     "exception": false,
     "start_time": "2024-03-03T15:56:38.707029",
     "status": "completed"
    },
    "tags": []
   },
   "outputs": [
    {
     "data": {
      "text/plain": [
       "<Axes: >"
      ]
     },
     "execution_count": 27,
     "metadata": {},
     "output_type": "execute_result"
    },
    {
     "data": {
      "image/png": "[encoded data removed]",
      "text/plain": [
       "<Figure size 640x480 with 2 Axes>"
      ]
     },
     "metadata": {},
     "output_type": "display_data"
    }
   ],
   "source": [
    "sns.heatmap(confusion_matrix(y_test,predictions))"
   ]
  },
  {
   "cell_type": "code",
   "execution_count": 28,
   "id": "819e1a5a",
   "metadata": {
    "execution": {
     "iopub.execute_input": "2024-03-03T15:56:39.504583Z",
     "iopub.status.busy": "2024-03-03T15:56:39.503513Z",
     "iopub.status.idle": "2024-03-03T15:56:39.537699Z",
     "shell.execute_reply": "2024-03-03T15:56:39.535957Z"
    },
    "papermill": {
     "duration": 0.180543,
     "end_time": "2024-03-03T15:56:39.540297",
     "exception": false,
     "start_time": "2024-03-03T15:56:39.359754",
     "status": "completed"
    },
    "tags": []
   },
   "outputs": [
    {
     "name": "stdout",
     "output_type": "stream",
     "text": [
      "              precision    recall  f1-score   support\n",
      "\n",
      "           0       0.73      0.64      0.69      1000\n",
      "           1       0.75      0.80      0.77      1000\n",
      "           2       0.51      0.56      0.53      1000\n",
      "           3       0.45      0.40      0.43      1000\n",
      "           4       0.65      0.46      0.54      1000\n",
      "           5       0.50      0.54      0.52      1000\n",
      "           6       0.63      0.80      0.71      1000\n",
      "           7       0.72      0.68      0.70      1000\n",
      "           8       0.72      0.83      0.77      1000\n",
      "           9       0.74      0.71      0.72      1000\n",
      "\n",
      "    accuracy                           0.64     10000\n",
      "   macro avg       0.64      0.64      0.64     10000\n",
      "weighted avg       0.64      0.64      0.64     10000\n",
      "\n"
     ]
    }
   ],
   "source": [
    "print(classification_report(y_test,predictions))"
   ]
  },
  {
   "cell_type": "code",
   "execution_count": 29,
   "id": "70f86515",
   "metadata": {
    "execution": {
     "iopub.execute_input": "2024-03-03T15:56:39.831231Z",
     "iopub.status.busy": "2024-03-03T15:56:39.829201Z",
     "iopub.status.idle": "2024-03-03T15:56:39.837742Z",
     "shell.execute_reply": "2024-03-03T15:56:39.835930Z"
    },
    "papermill": {
     "duration": 0.154912,
     "end_time": "2024-03-03T15:56:39.840300",
     "exception": false,
     "start_time": "2024-03-03T15:56:39.685388",
     "status": "completed"
    },
    "tags": []
   },
   "outputs": [
    {
     "data": {
      "text/plain": [
       "('cat', 'deer', 'dog')"
      ]
     },
     "execution_count": 29,
     "metadata": {},
     "output_type": "execute_result"
    }
   ],
   "source": [
    "labels[3],labels[4],labels[5]"
   ]
  },
  {
   "cell_type": "markdown",
   "id": "c11b1e6e",
   "metadata": {
    "papermill": {
     "duration": 0.139995,
     "end_time": "2024-03-03T15:56:40.121462",
     "exception": false,
     "start_time": "2024-03-03T15:56:39.981467",
     "status": "completed"
    },
    "tags": []
   },
   "source": [
    "### Model heavily troubled in classifying those three classes ('cat', 'deer', 'dog')\n",
    "### since those three are almost similar in terms of look and also the dim of img is very less(32,32,3)\n",
    "\n",
    "### Model easily classifies the automobiles suchs as airplane,trucks since they are unique in shape quality of img won't matter at all"
   ]
  },
  {
   "cell_type": "markdown",
   "id": "09411ab1",
   "metadata": {
    "papermill": {
     "duration": 0.142014,
     "end_time": "2024-03-03T15:56:40.409833",
     "exception": false,
     "start_time": "2024-03-03T15:56:40.267819",
     "status": "completed"
    },
    "tags": []
   },
   "source": [
    "# Predictions"
   ]
  },
  {
   "cell_type": "code",
   "execution_count": 30,
   "id": "e75e9a12",
   "metadata": {
    "execution": {
     "iopub.execute_input": "2024-03-03T15:56:40.688735Z",
     "iopub.status.busy": "2024-03-03T15:56:40.687605Z",
     "iopub.status.idle": "2024-03-03T15:56:40.692622Z",
     "shell.execute_reply": "2024-03-03T15:56:40.691847Z"
    },
    "papermill": {
     "duration": 0.146295,
     "end_time": "2024-03-03T15:56:40.694569",
     "exception": false,
     "start_time": "2024-03-03T15:56:40.548274",
     "status": "completed"
    },
    "tags": []
   },
   "outputs": [],
   "source": [
    "sam_img = X_test[9]"
   ]
  },
  {
   "cell_type": "code",
   "execution_count": 31,
   "id": "d0ff0d9d",
   "metadata": {
    "execution": {
     "iopub.execute_input": "2024-03-03T15:56:40.977158Z",
     "iopub.status.busy": "2024-03-03T15:56:40.976154Z",
     "iopub.status.idle": "2024-03-03T15:56:41.182571Z",
     "shell.execute_reply": "2024-03-03T15:56:41.181679Z"
    },
    "papermill": {
     "duration": 0.349728,
     "end_time": "2024-03-03T15:56:41.184433",
     "exception": false,
     "start_time": "2024-03-03T15:56:40.834705",
     "status": "completed"
    },
    "tags": []
   },
   "outputs": [
    {
     "data": {
      "text/plain": [
       "<matplotlib.image.AxesImage at 0x7f55b8ef39a0>"
      ]
     },
     "execution_count": 31,
     "metadata": {},
     "output_type": "execute_result"
    },
    {
     "data": {
      "image/png": "[encoded data removed]",
      "text/plain": [
       "<Figure size 640x480 with 1 Axes>"
      ]
     },
     "metadata": {},
     "output_type": "display_data"
    }
   ],
   "source": [
    "plt.imshow(sam_img)"
   ]
  },
  {
   "cell_type": "code",
   "execution_count": 32,
   "id": "f83ad398",
   "metadata": {
    "execution": {
     "iopub.execute_input": "2024-03-03T15:56:41.464909Z",
     "iopub.status.busy": "2024-03-03T15:56:41.464370Z",
     "iopub.status.idle": "2024-03-03T15:56:41.548186Z",
     "shell.execute_reply": "2024-03-03T15:56:41.546448Z"
    },
    "papermill": {
     "duration": 0.227202,
     "end_time": "2024-03-03T15:56:41.550626",
     "exception": false,
     "start_time": "2024-03-03T15:56:41.323424",
     "status": "completed"
    },
    "tags": []
   },
   "outputs": [
    {
     "name": "stdout",
     "output_type": "stream",
     "text": [
      "\u001b[1m1/1\u001b[0m \u001b[32m━━━━━━━━━━━━━━━━━━━━\u001b[0m\u001b[37m\u001b[0m \u001b[1m0s\u001b[0m 24ms/step\n"
     ]
    }
   ],
   "source": [
    "pred_sam = np.argmax(model.predict(sam_img.reshape(1,32,32,3)),axis=1)"
   ]
  },
  {
   "cell_type": "code",
   "execution_count": 33,
   "id": "16493cee",
   "metadata": {
    "execution": {
     "iopub.execute_input": "2024-03-03T15:56:41.835041Z",
     "iopub.status.busy": "2024-03-03T15:56:41.834644Z",
     "iopub.status.idle": "2024-03-03T15:56:41.843632Z",
     "shell.execute_reply": "2024-03-03T15:56:41.841766Z"
    },
    "papermill": {
     "duration": 0.153057,
     "end_time": "2024-03-03T15:56:41.845944",
     "exception": false,
     "start_time": "2024-03-03T15:56:41.692887",
     "status": "completed"
    },
    "tags": []
   },
   "outputs": [
    {
     "data": {
      "text/plain": [
       "'automobile'"
      ]
     },
     "execution_count": 33,
     "metadata": {},
     "output_type": "execute_result"
    }
   ],
   "source": [
    "labels[pred_sam[0]] #we predict it correctly"
   ]
  },
  {
   "cell_type": "code",
   "execution_count": 34,
   "id": "5756880c",
   "metadata": {
    "execution": {
     "iopub.execute_input": "2024-03-03T15:56:42.128444Z",
     "iopub.status.busy": "2024-03-03T15:56:42.128002Z",
     "iopub.status.idle": "2024-03-03T15:56:42.135850Z",
     "shell.execute_reply": "2024-03-03T15:56:42.134654Z"
    },
    "papermill": {
     "duration": 0.152443,
     "end_time": "2024-03-03T15:56:42.138460",
     "exception": false,
     "start_time": "2024-03-03T15:56:41.986017",
     "status": "completed"
    },
    "tags": []
   },
   "outputs": [
    {
     "data": {
      "text/plain": [
       "'automobile'"
      ]
     },
     "execution_count": 34,
     "metadata": {},
     "output_type": "execute_result"
    }
   ],
   "source": [
    "#to chec\n",
    "labels[y_test[9][0]]"
   ]
  },
  {
   "cell_type": "code",
   "execution_count": 35,
   "id": "c857db02",
   "metadata": {
    "execution": {
     "iopub.execute_input": "2024-03-03T15:56:42.490635Z",
     "iopub.status.busy": "2024-03-03T15:56:42.490235Z",
     "iopub.status.idle": "2024-03-03T15:56:42.495605Z",
     "shell.execute_reply": "2024-03-03T15:56:42.494455Z"
    },
    "papermill": {
     "duration": 0.15202,
     "end_time": "2024-03-03T15:56:42.498629",
     "exception": false,
     "start_time": "2024-03-03T15:56:42.346609",
     "status": "completed"
    },
    "tags": []
   },
   "outputs": [],
   "source": [
    "#Done"
   ]
  }
 ],
 "metadata": {
  "kaggle": {
   "accelerator": "none",
   "dataSources": [],
   "dockerImageVersionId": 30664,
   "isGpuEnabled": false,
   "isInternetEnabled": true,
   "language": "python",
   "sourceType": "notebook"
  },
  "kernelspec": {
   "display_name": "Python 3",
   "language": "python",
   "name": "python3"
  },
  "language_info": {
   "codemirror_mode": {
    "name": "ipython",
    "version": 3
   },
   "file_extension": ".py",
   "mimetype": "text/x-python",
   "name": "python",
   "nbconvert_exporter": "python",
   "pygments_lexer": "ipython3",
   "version": "3.10.13"
  },
  "papermill": {
   "default_parameters": {},
   "duration": 421.308876,
   "end_time": "2024-03-03T15:56:45.427649",
   "environment_variables": {},
   "exception": null,
   "input_path": "__notebook__.ipynb",
   "output_path": "__notebook__.ipynb",
   "parameters": {},
   "start_time": "2024-03-03T15:49:44.118773",
   "version": "2.5.0"
  }
 },
 "nbformat": 4,
 "nbformat_minor": 5
}
